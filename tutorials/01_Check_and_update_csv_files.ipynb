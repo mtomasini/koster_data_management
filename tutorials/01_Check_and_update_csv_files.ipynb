{
 "cells": [
  {
   "cell_type": "markdown",
   "id": "a82607a9",
   "metadata": {},
   "source": [
    "Latest update: 2022-11-21 15:39:25.892880"
   ]
  },
  {
   "cell_type": "markdown",
   "id": "6c481791",
   "metadata": {
    "colab_type": "text",
    "id": "view-in-github"
   },
   "source": [
    "<a href=\"https://colab.research.google.com/github/ocean-data-factory-sweden/kso-data-management/blob/main/tutorials/01_Check_and_update_csv_files.ipynb\" target=\"_parent\"><img src=\"https://colab.research.google.com/assets/colab-badge.svg\" alt=\"Open In Colab\"/></a>"
   ]
  },
  {
   "cell_type": "markdown",
   "id": "95aea466",
   "metadata": {
    "id": "95aea466"
   },
   "source": [
    "<img align=\"left\" src=\"https://panoptes-uploads.zooniverse.org/project_avatar/86c23ca7-bbaa-4e84-8d8a-876819551431.png\" type=\"image/png\" height=100 width=100>\n",
    "</img>\n",
    "\n",
    "\n",
    "<h1 align=\"right\">Colab KSO Tutorial #1: Check and update csv files</h1>\n",
    "<h3 align=\"right\">Written by @jannesgg and @vykanton</h3>"
   ]
  },
  {
   "cell_type": "markdown",
   "id": "6f0fc779",
   "metadata": {
    "id": "6f0fc779"
   },
   "source": [
    "# Set up and requirements"
   ]
  },
  {
   "cell_type": "markdown",
   "id": "3c49080c",
   "metadata": {
    "id": "3c49080c"
   },
   "source": [
    "## Install kso_data_management and its requirements"
   ]
  },
  {
   "cell_type": "code",
   "execution_count": 7,
   "id": "6b0c72a4",
   "metadata": {
    "colab": {
     "base_uri": "https://localhost:8080/"
    },
    "id": "6b0c72a4",
    "outputId": "95e46153-41a8-4d63-d5f8-9369bcad5aa1"
   },
   "outputs": [
    {
     "name": "stdout",
     "output_type": "stream",
     "text": [
      "Running locally... you're good to go!\n"
     ]
    }
   ],
   "source": [
    "from IPython.display import clear_output\n",
    "\n",
    "try:\n",
    "    import google.colab\n",
    "    import os\n",
    "\n",
    "    IN_COLAB = True\n",
    "    print(\"Running in Colab...\")\n",
    "\n",
    "    # Clone kso-data-management repo\n",
    "    !git clone --quiet --recurse-submodules -b main https://github.com/ocean-data-factory-sweden/kso-data-management.git\n",
    "    !pip install -q --upgrade pip\n",
    "    !pip install -q -r kso-data-management/requirements.txt\n",
    "\n",
    "    # Fix libmagic issue\n",
    "    !apt-get -qq update && apt-get -qq install -y libmagic-dev > /dev/null\n",
    "\n",
    "    # Enable external widgets\n",
    "    from google.colab import output\n",
    "\n",
    "    output.enable_custom_widget_manager()\n",
    "\n",
    "    os.chdir(\"kso-data-management/tutorials\")\n",
    "    try:\n",
    "        clear_output()\n",
    "        print(\"All packages are installed and ready to go!\")\n",
    "    except:\n",
    "        clear_output()\n",
    "        print(\"There have been some issues installing the packages!\")\n",
    "except:\n",
    "    IN_COLAB = False\n",
    "    import sys\n",
    "\n",
    "    # Install requirements\n",
    "    !pip install -q --no-warn-script-location --upgrade pip\n",
    "    !pip install -qr ../requirements.txt\n",
    "\n",
    "    !jupyter nbextension install --user --py widgetsnbextension\n",
    "    !jupyter nbextension enable --user --py widgetsnbextension\n",
    "    !jupyter nbextension install --user --py jupyter_bbox_widget\n",
    "    !jupyter nbextension enable --user --py jupyter_bbox_widget\n",
    "\n",
    "    clear_output()\n",
    "    print(\"Running locally... you're good to go!\")"
   ]
  },
  {
   "cell_type": "markdown",
   "id": "6b9b11d5",
   "metadata": {
    "id": "6b9b11d5"
   },
   "source": [
    "### Import Python packages"
   ]
  },
  {
   "cell_type": "code",
   "execution_count": 8,
   "id": "46ca201f",
   "metadata": {
    "colab": {
     "base_uri": "https://localhost:8080/",
     "height": 495
    },
    "id": "46ca201f",
    "outputId": "3cf30a6f-c8f8-4238-ddf2-7195c336e14a"
   },
   "outputs": [
    {
     "name": "stdout",
     "output_type": "stream",
     "text": [
      "The autoreload extension is already loaded. To reload it, use:\n",
      "  %reload_ext autoreload\n",
      "Packages loaded successfully\n"
     ]
    }
   ],
   "source": [
    "# Set the directory of the libraries\n",
    "import sys, os\n",
    "from pathlib import Path\n",
    "\n",
    "# Enables testing changes in utils\n",
    "%load_ext autoreload\n",
    "%autoreload 2\n",
    "\n",
    "# Specify the path of the tutorials\n",
    "sys.path.append(\"..\")\n",
    "\n",
    "# Import required modules\n",
    "import kso_utils.tutorials_utils as t_utils\n",
    "import kso_utils.project_utils as p_utils\n",
    "import kso_utils.server_utils as s_utils\n",
    "import kso_utils.t1_utils as t1\n",
    "\n",
    "print(\"Packages loaded successfully\")"
   ]
  },
  {
   "cell_type": "markdown",
   "id": "fdc7152a",
   "metadata": {
    "id": "fdc7152a"
   },
   "source": [
    "### Choose your project"
   ]
  },
  {
   "cell_type": "code",
   "execution_count": 9,
   "id": "1c1aabda",
   "metadata": {
    "id": "1c1aabda"
   },
   "outputs": [
    {
     "data": {
      "application/vnd.jupyter.widget-view+json": {
       "model_id": "b0fcfe8bf8544a5f9672652676b60d67",
       "version_major": 2,
       "version_minor": 0
      },
      "text/plain": [
       "Dropdown(description='Project:', options=('Template project', 'Koster_Seafloor_Obs', 'Spyfish_Aotearoa', 'SGU'…"
      ]
     },
     "metadata": {},
     "output_type": "display_data"
    }
   ],
   "source": [
    "project_name = t_utils.choose_project()"
   ]
  },
  {
   "cell_type": "markdown",
   "id": "2URxgu8PQDZh",
   "metadata": {
    "id": "2URxgu8PQDZh"
   },
   "source": [
    "## Initiate database"
   ]
  },
  {
   "cell_type": "code",
   "execution_count": 10,
   "id": "41994eb6",
   "metadata": {
    "id": "41994eb6"
   },
   "outputs": [
    {
     "name": "stderr",
     "output_type": "stream",
     "text": [
      "INFO:root:Template project loaded succesfully\n",
      "INFO:root:Retrieving the file from https://drive.google.com/uc?&confirm=s5vl&id=1PZGRoSY_UpyLfMhRphMUMwDXw4yx1_Fn\n",
      "Downloading...\n",
      "From: https://drive.google.com/uc?&confirm=s5vl&id=1PZGRoSY_UpyLfMhRphMUMwDXw4yx1_Fn\n",
      "To: /Users/jurie.germishuys/Workspace/odf/koster-uw/database/kso_data_management/tutorials/db_csv_info.zip\n",
      "100%|██████████| 2.29k/2.29k [00:00<00:00, 2.39MB/s]\n",
      "INFO:root:Updated sites\n",
      "INFO:root:Updated movies\n",
      "INFO:root:Updated species\n"
     ]
    }
   ],
   "source": [
    "project = p_utils.find_project(project_name=project_name.value)\n",
    "db_info_dict = t_utils.initiate_db(project)"
   ]
  },
  {
   "cell_type": "markdown",
   "id": "52f976b8",
   "metadata": {
    "id": "52f976b8"
   },
   "source": [
    "# Review Sites"
   ]
  },
  {
   "cell_type": "markdown",
   "id": "5__P6hq1QRjF",
   "metadata": {
    "id": "5__P6hq1QRjF"
   },
   "source": [
    "## Map sites and metadata"
   ]
  },
  {
   "cell_type": "code",
   "execution_count": 11,
   "id": "J9Dm5_ghmJ3_",
   "metadata": {
    "id": "J9Dm5_ghmJ3_"
   },
   "outputs": [
    {
     "data": {
      "text/html": [
       "<div style=\"width:100%;\"><div style=\"position:relative;width:100%;height:0;padding-bottom:60%;\"><span style=\"color:#565656\">Make this Notebook Trusted to load map: File -> Trust Notebook</span><iframe src=\"about:blank\" style=\"position:absolute;width:100%;height:100%;left:0;top:0;border:none !important;\" data-html=%3C%21DOCTYPE%20html%3E%0A%3Chead%3E%20%20%20%20%0A%20%20%20%20%3Cmeta%20http-equiv%3D%22content-type%22%20content%3D%22text/html%3B%20charset%3DUTF-8%22%20/%3E%0A%20%20%20%20%0A%20%20%20%20%20%20%20%20%3Cscript%3E%0A%20%20%20%20%20%20%20%20%20%20%20%20L_NO_TOUCH%20%3D%20false%3B%0A%20%20%20%20%20%20%20%20%20%20%20%20L_DISABLE_3D%20%3D%20false%3B%0A%20%20%20%20%20%20%20%20%3C/script%3E%0A%20%20%20%20%0A%20%20%20%20%3Cstyle%3Ehtml%2C%20body%20%7Bwidth%3A%20100%25%3Bheight%3A%20100%25%3Bmargin%3A%200%3Bpadding%3A%200%3B%7D%3C/style%3E%0A%20%20%20%20%3Cstyle%3E%23map%20%7Bposition%3Aabsolute%3Btop%3A0%3Bbottom%3A0%3Bright%3A0%3Bleft%3A0%3B%7D%3C/style%3E%0A%20%20%20%20%3Cscript%20src%3D%22https%3A//cdn.jsdelivr.net/npm/leaflet%401.6.0/dist/leaflet.js%22%3E%3C/script%3E%0A%20%20%20%20%3Cscript%20src%3D%22https%3A//code.jquery.com/jquery-1.12.4.min.js%22%3E%3C/script%3E%0A%20%20%20%20%3Cscript%20src%3D%22https%3A//maxcdn.bootstrapcdn.com/bootstrap/3.2.0/js/bootstrap.min.js%22%3E%3C/script%3E%0A%20%20%20%20%3Cscript%20src%3D%22https%3A//cdnjs.cloudflare.com/ajax/libs/Leaflet.awesome-markers/2.0.2/leaflet.awesome-markers.js%22%3E%3C/script%3E%0A%20%20%20%20%3Clink%20rel%3D%22stylesheet%22%20href%3D%22https%3A//cdn.jsdelivr.net/npm/leaflet%401.6.0/dist/leaflet.css%22/%3E%0A%20%20%20%20%3Clink%20rel%3D%22stylesheet%22%20href%3D%22https%3A//maxcdn.bootstrapcdn.com/bootstrap/3.2.0/css/bootstrap.min.css%22/%3E%0A%20%20%20%20%3Clink%20rel%3D%22stylesheet%22%20href%3D%22https%3A//maxcdn.bootstrapcdn.com/bootstrap/3.2.0/css/bootstrap-theme.min.css%22/%3E%0A%20%20%20%20%3Clink%20rel%3D%22stylesheet%22%20href%3D%22https%3A//maxcdn.bootstrapcdn.com/font-awesome/4.6.3/css/font-awesome.min.css%22/%3E%0A%20%20%20%20%3Clink%20rel%3D%22stylesheet%22%20href%3D%22https%3A//cdnjs.cloudflare.com/ajax/libs/Leaflet.awesome-markers/2.0.2/leaflet.awesome-markers.css%22/%3E%0A%20%20%20%20%3Clink%20rel%3D%22stylesheet%22%20href%3D%22https%3A//cdn.jsdelivr.net/gh/python-visualization/folium/folium/templates/leaflet.awesome.rotate.min.css%22/%3E%0A%20%20%20%20%0A%20%20%20%20%20%20%20%20%20%20%20%20%3Cmeta%20name%3D%22viewport%22%20content%3D%22width%3Ddevice-width%2C%0A%20%20%20%20%20%20%20%20%20%20%20%20%20%20%20%20initial-scale%3D1.0%2C%20maximum-scale%3D1.0%2C%20user-scalable%3Dno%22%20/%3E%0A%20%20%20%20%20%20%20%20%20%20%20%20%3Cstyle%3E%0A%20%20%20%20%20%20%20%20%20%20%20%20%20%20%20%20%23map_416a03d9f34248bcad21f8c08d0dd819%20%7B%0A%20%20%20%20%20%20%20%20%20%20%20%20%20%20%20%20%20%20%20%20position%3A%20relative%3B%0A%20%20%20%20%20%20%20%20%20%20%20%20%20%20%20%20%20%20%20%20width%3A%20900.0px%3B%0A%20%20%20%20%20%20%20%20%20%20%20%20%20%20%20%20%20%20%20%20height%3A%20600.0px%3B%0A%20%20%20%20%20%20%20%20%20%20%20%20%20%20%20%20%20%20%20%20left%3A%200.0%25%3B%0A%20%20%20%20%20%20%20%20%20%20%20%20%20%20%20%20%20%20%20%20top%3A%200.0%25%3B%0A%20%20%20%20%20%20%20%20%20%20%20%20%20%20%20%20%7D%0A%20%20%20%20%20%20%20%20%20%20%20%20%3C/style%3E%0A%20%20%20%20%20%20%20%20%0A%20%20%20%20%3Cscript%20src%3D%22https%3A//cdnjs.cloudflare.com/ajax/libs/leaflet-minimap/3.6.1/Control.MiniMap.js%22%3E%3C/script%3E%0A%20%20%20%20%3Clink%20rel%3D%22stylesheet%22%20href%3D%22https%3A//cdnjs.cloudflare.com/ajax/libs/leaflet-minimap/3.6.1/Control.MiniMap.css%22/%3E%0A%3C/head%3E%0A%3Cbody%3E%20%20%20%20%0A%20%20%20%20%0A%20%20%20%20%20%20%20%20%20%20%20%20%3Cdiv%20class%3D%22folium-map%22%20id%3D%22map_416a03d9f34248bcad21f8c08d0dd819%22%20%3E%3C/div%3E%0A%20%20%20%20%20%20%20%20%0A%3C/body%3E%0A%3Cscript%3E%20%20%20%20%0A%20%20%20%20%0A%20%20%20%20%20%20%20%20%20%20%20%20var%20map_416a03d9f34248bcad21f8c08d0dd819%20%3D%20L.map%28%0A%20%20%20%20%20%20%20%20%20%20%20%20%20%20%20%20%22map_416a03d9f34248bcad21f8c08d0dd819%22%2C%0A%20%20%20%20%20%20%20%20%20%20%20%20%20%20%20%20%7B%0A%20%20%20%20%20%20%20%20%20%20%20%20%20%20%20%20%20%20%20%20center%3A%20%5B-39.296109%2C%20174.063916%5D%2C%0A%20%20%20%20%20%20%20%20%20%20%20%20%20%20%20%20%20%20%20%20crs%3A%20L.CRS.EPSG3857%2C%0A%20%20%20%20%20%20%20%20%20%20%20%20%20%20%20%20%20%20%20%20zoom%3A%2010%2C%0A%20%20%20%20%20%20%20%20%20%20%20%20%20%20%20%20%20%20%20%20zoomControl%3A%20true%2C%0A%20%20%20%20%20%20%20%20%20%20%20%20%20%20%20%20%20%20%20%20preferCanvas%3A%20false%2C%0A%20%20%20%20%20%20%20%20%20%20%20%20%20%20%20%20%7D%0A%20%20%20%20%20%20%20%20%20%20%20%20%29%3B%0A%0A%20%20%20%20%20%20%20%20%20%20%20%20%0A%0A%20%20%20%20%20%20%20%20%0A%20%20%20%20%0A%20%20%20%20%20%20%20%20%20%20%20%20var%20tile_layer_b5f5c251a87e469b99ec32f0dbcd4b96%20%3D%20L.tileLayer%28%0A%20%20%20%20%20%20%20%20%20%20%20%20%20%20%20%20%22https%3A//%7Bs%7D.tile.openstreetmap.org/%7Bz%7D/%7Bx%7D/%7By%7D.png%22%2C%0A%20%20%20%20%20%20%20%20%20%20%20%20%20%20%20%20%7B%22attribution%22%3A%20%22Data%20by%20%5Cu0026copy%3B%20%5Cu003ca%20href%3D%5C%22http%3A//openstreetmap.org%5C%22%5Cu003eOpenStreetMap%5Cu003c/a%5Cu003e%2C%20under%20%5Cu003ca%20href%3D%5C%22http%3A//www.openstreetmap.org/copyright%5C%22%5Cu003eODbL%5Cu003c/a%5Cu003e.%22%2C%20%22detectRetina%22%3A%20false%2C%20%22maxNativeZoom%22%3A%2018%2C%20%22maxZoom%22%3A%2018%2C%20%22minZoom%22%3A%200%2C%20%22noWrap%22%3A%20false%2C%20%22opacity%22%3A%201%2C%20%22subdomains%22%3A%20%22abc%22%2C%20%22tms%22%3A%20false%7D%0A%20%20%20%20%20%20%20%20%20%20%20%20%29.addTo%28map_416a03d9f34248bcad21f8c08d0dd819%29%3B%0A%20%20%20%20%20%20%20%20%0A%20%20%20%20%0A%20%20%20%20%20%20%20%20%20%20%20%20var%20circle_marker_d3a9838af7664511af1b09d1a9840bad%20%3D%20L.circleMarker%28%0A%20%20%20%20%20%20%20%20%20%20%20%20%20%20%20%20%5B-39.052281%2C%20174.02394099999998%5D%2C%0A%20%20%20%20%20%20%20%20%20%20%20%20%20%20%20%20%7B%22bubblingMouseEvents%22%3A%20true%2C%20%22color%22%3A%20%22%233388ff%22%2C%20%22dashArray%22%3A%20null%2C%20%22dashOffset%22%3A%20null%2C%20%22fill%22%3A%20false%2C%20%22fillColor%22%3A%20%22%233388ff%22%2C%20%22fillOpacity%22%3A%200.2%2C%20%22fillRule%22%3A%20%22evenodd%22%2C%20%22lineCap%22%3A%20%22round%22%2C%20%22lineJoin%22%3A%20%22round%22%2C%20%22opacity%22%3A%201.0%2C%20%22radius%22%3A%2014%2C%20%22stroke%22%3A%20true%2C%20%22weight%22%3A%203%7D%0A%20%20%20%20%20%20%20%20%20%20%20%20%29.addTo%28map_416a03d9f34248bcad21f8c08d0dd819%29%3B%0A%20%20%20%20%20%20%20%20%0A%20%20%20%20%0A%20%20%20%20%20%20%20%20var%20popup_3713e8347567415f85d2d52a15bea80b%20%3D%20L.popup%28%7B%22maxWidth%22%3A%20%22100%25%22%7D%29%3B%0A%0A%20%20%20%20%20%20%20%20%0A%20%20%20%20%20%20%20%20%20%20%20%20var%20html_dcb3f33373c94a77aa7a68e04372b98e%20%3D%20%24%28%60%3Cdiv%20id%3D%22html_dcb3f33373c94a77aa7a68e04372b98e%22%20style%3D%22width%3A%20100.0%25%3B%20height%3A%20100.0%25%3B%22%3E%5B1%2C%20%27Site_1%27%2C%20-39.052281%2C%20174.02394099999998%2C%20%27WGS84%27%2C%20%27NZ%27%5D%3C/div%3E%60%29%5B0%5D%3B%0A%20%20%20%20%20%20%20%20%20%20%20%20popup_3713e8347567415f85d2d52a15bea80b.setContent%28html_dcb3f33373c94a77aa7a68e04372b98e%29%3B%0A%20%20%20%20%20%20%20%20%0A%0A%20%20%20%20%20%20%20%20circle_marker_d3a9838af7664511af1b09d1a9840bad.bindPopup%28popup_3713e8347567415f85d2d52a15bea80b%29%0A%20%20%20%20%20%20%20%20%3B%0A%0A%20%20%20%20%20%20%20%20%0A%20%20%20%20%0A%20%20%20%20%0A%20%20%20%20%20%20%20%20%20%20%20%20circle_marker_d3a9838af7664511af1b09d1a9840bad.bindTooltip%28%0A%20%20%20%20%20%20%20%20%20%20%20%20%20%20%20%20%60%3Cdiv%3E%0A%20%20%20%20%20%20%20%20%20%20%20%20%20%20%20%20%20%20%20%20%20siteName%20%20%20%20Site_1%0AName%3A%200%2C%20dtype%3A%20object%0A%20%20%20%20%20%20%20%20%20%20%20%20%20%20%20%20%20%3C/div%3E%60%2C%0A%20%20%20%20%20%20%20%20%20%20%20%20%20%20%20%20%7B%22sticky%22%3A%20true%7D%0A%20%20%20%20%20%20%20%20%20%20%20%20%29%3B%0A%20%20%20%20%20%20%20%20%0A%20%20%20%20%0A%20%20%20%20%20%20%20%20%20%20%20%20var%20circle_marker_0a4db27eeded4ebeba68be88e57dda56%20%3D%20L.circleMarker%28%0A%20%20%20%20%20%20%20%20%20%20%20%20%20%20%20%20%5B-39.057633%2C%20174.01873899999998%5D%2C%0A%20%20%20%20%20%20%20%20%20%20%20%20%20%20%20%20%7B%22bubblingMouseEvents%22%3A%20true%2C%20%22color%22%3A%20%22%233388ff%22%2C%20%22dashArray%22%3A%20null%2C%20%22dashOffset%22%3A%20null%2C%20%22fill%22%3A%20false%2C%20%22fillColor%22%3A%20%22%233388ff%22%2C%20%22fillOpacity%22%3A%200.2%2C%20%22fillRule%22%3A%20%22evenodd%22%2C%20%22lineCap%22%3A%20%22round%22%2C%20%22lineJoin%22%3A%20%22round%22%2C%20%22opacity%22%3A%201.0%2C%20%22radius%22%3A%2014%2C%20%22stroke%22%3A%20true%2C%20%22weight%22%3A%203%7D%0A%20%20%20%20%20%20%20%20%20%20%20%20%29.addTo%28map_416a03d9f34248bcad21f8c08d0dd819%29%3B%0A%20%20%20%20%20%20%20%20%0A%20%20%20%20%0A%20%20%20%20%20%20%20%20var%20popup_97d8c9b1a4b143cca919050606640b98%20%3D%20L.popup%28%7B%22maxWidth%22%3A%20%22100%25%22%7D%29%3B%0A%0A%20%20%20%20%20%20%20%20%0A%20%20%20%20%20%20%20%20%20%20%20%20var%20html_1783cfabdaf349f8aac85a87b1dd0cbb%20%3D%20%24%28%60%3Cdiv%20id%3D%22html_1783cfabdaf349f8aac85a87b1dd0cbb%22%20style%3D%22width%3A%20100.0%25%3B%20height%3A%20100.0%25%3B%22%3E%5B2%2C%20%27Site_2%27%2C%20-39.057633%2C%20174.01873899999998%2C%20%27WGS84%27%2C%20%27NZ%27%5D%3C/div%3E%60%29%5B0%5D%3B%0A%20%20%20%20%20%20%20%20%20%20%20%20popup_97d8c9b1a4b143cca919050606640b98.setContent%28html_1783cfabdaf349f8aac85a87b1dd0cbb%29%3B%0A%20%20%20%20%20%20%20%20%0A%0A%20%20%20%20%20%20%20%20circle_marker_0a4db27eeded4ebeba68be88e57dda56.bindPopup%28popup_97d8c9b1a4b143cca919050606640b98%29%0A%20%20%20%20%20%20%20%20%3B%0A%0A%20%20%20%20%20%20%20%20%0A%20%20%20%20%0A%20%20%20%20%0A%20%20%20%20%20%20%20%20%20%20%20%20circle_marker_0a4db27eeded4ebeba68be88e57dda56.bindTooltip%28%0A%20%20%20%20%20%20%20%20%20%20%20%20%20%20%20%20%60%3Cdiv%3E%0A%20%20%20%20%20%20%20%20%20%20%20%20%20%20%20%20%20%20%20%20%20siteName%20%20%20%20Site_2%0AName%3A%201%2C%20dtype%3A%20object%0A%20%20%20%20%20%20%20%20%20%20%20%20%20%20%20%20%20%3C/div%3E%60%2C%0A%20%20%20%20%20%20%20%20%20%20%20%20%20%20%20%20%7B%22sticky%22%3A%20true%7D%0A%20%20%20%20%20%20%20%20%20%20%20%20%29%3B%0A%20%20%20%20%20%20%20%20%0A%20%20%20%20%0A%20%20%20%20%20%20%20%20%20%20%20%20var%20circle_marker_02851815d3624801a81bb62124c9c3a0%20%3D%20L.circleMarker%28%0A%20%20%20%20%20%20%20%20%20%20%20%20%20%20%20%20%5B-39.04892%2C%20174.0296%5D%2C%0A%20%20%20%20%20%20%20%20%20%20%20%20%20%20%20%20%7B%22bubblingMouseEvents%22%3A%20true%2C%20%22color%22%3A%20%22%233388ff%22%2C%20%22dashArray%22%3A%20null%2C%20%22dashOffset%22%3A%20null%2C%20%22fill%22%3A%20false%2C%20%22fillColor%22%3A%20%22%233388ff%22%2C%20%22fillOpacity%22%3A%200.2%2C%20%22fillRule%22%3A%20%22evenodd%22%2C%20%22lineCap%22%3A%20%22round%22%2C%20%22lineJoin%22%3A%20%22round%22%2C%20%22opacity%22%3A%201.0%2C%20%22radius%22%3A%2014%2C%20%22stroke%22%3A%20true%2C%20%22weight%22%3A%203%7D%0A%20%20%20%20%20%20%20%20%20%20%20%20%29.addTo%28map_416a03d9f34248bcad21f8c08d0dd819%29%3B%0A%20%20%20%20%20%20%20%20%0A%20%20%20%20%0A%20%20%20%20%20%20%20%20var%20popup_1dfdf4177d2542359b58f5638a8ca630%20%3D%20L.popup%28%7B%22maxWidth%22%3A%20%22100%25%22%7D%29%3B%0A%0A%20%20%20%20%20%20%20%20%0A%20%20%20%20%20%20%20%20%20%20%20%20var%20html_9559a22213c8420f9c1ba1f6bd8c89d1%20%3D%20%24%28%60%3Cdiv%20id%3D%22html_9559a22213c8420f9c1ba1f6bd8c89d1%22%20style%3D%22width%3A%20100.0%25%3B%20height%3A%20100.0%25%3B%22%3E%5B3%2C%20%27Site_3%27%2C%20-39.04892%2C%20174.0296%2C%20%27WGS84%27%2C%20%27NZ%27%5D%3C/div%3E%60%29%5B0%5D%3B%0A%20%20%20%20%20%20%20%20%20%20%20%20popup_1dfdf4177d2542359b58f5638a8ca630.setContent%28html_9559a22213c8420f9c1ba1f6bd8c89d1%29%3B%0A%20%20%20%20%20%20%20%20%0A%0A%20%20%20%20%20%20%20%20circle_marker_02851815d3624801a81bb62124c9c3a0.bindPopup%28popup_1dfdf4177d2542359b58f5638a8ca630%29%0A%20%20%20%20%20%20%20%20%3B%0A%0A%20%20%20%20%20%20%20%20%0A%20%20%20%20%0A%20%20%20%20%0A%20%20%20%20%20%20%20%20%20%20%20%20circle_marker_02851815d3624801a81bb62124c9c3a0.bindTooltip%28%0A%20%20%20%20%20%20%20%20%20%20%20%20%20%20%20%20%60%3Cdiv%3E%0A%20%20%20%20%20%20%20%20%20%20%20%20%20%20%20%20%20%20%20%20%20siteName%20%20%20%20Site_3%0AName%3A%202%2C%20dtype%3A%20object%0A%20%20%20%20%20%20%20%20%20%20%20%20%20%20%20%20%20%3C/div%3E%60%2C%0A%20%20%20%20%20%20%20%20%20%20%20%20%20%20%20%20%7B%22sticky%22%3A%20true%7D%0A%20%20%20%20%20%20%20%20%20%20%20%20%29%3B%0A%20%20%20%20%20%20%20%20%0A%20%20%20%20%0A%20%20%20%20%20%20%20%20%20%20%20%20var%20circle_marker_c15c42e980704a2790f1ad51cd62220b%20%3D%20L.circleMarker%28%0A%20%20%20%20%20%20%20%20%20%20%20%20%20%20%20%20%5B-39.046859000000005%2C%20174.01494399999999%5D%2C%0A%20%20%20%20%20%20%20%20%20%20%20%20%20%20%20%20%7B%22bubblingMouseEvents%22%3A%20true%2C%20%22color%22%3A%20%22%233388ff%22%2C%20%22dashArray%22%3A%20null%2C%20%22dashOffset%22%3A%20null%2C%20%22fill%22%3A%20false%2C%20%22fillColor%22%3A%20%22%233388ff%22%2C%20%22fillOpacity%22%3A%200.2%2C%20%22fillRule%22%3A%20%22evenodd%22%2C%20%22lineCap%22%3A%20%22round%22%2C%20%22lineJoin%22%3A%20%22round%22%2C%20%22opacity%22%3A%201.0%2C%20%22radius%22%3A%2014%2C%20%22stroke%22%3A%20true%2C%20%22weight%22%3A%203%7D%0A%20%20%20%20%20%20%20%20%20%20%20%20%29.addTo%28map_416a03d9f34248bcad21f8c08d0dd819%29%3B%0A%20%20%20%20%20%20%20%20%0A%20%20%20%20%0A%20%20%20%20%20%20%20%20var%20popup_27d46804ae8641b58efa68d62bbec320%20%3D%20L.popup%28%7B%22maxWidth%22%3A%20%22100%25%22%7D%29%3B%0A%0A%20%20%20%20%20%20%20%20%0A%20%20%20%20%20%20%20%20%20%20%20%20var%20html_0f1e842ce9d24abf93e356ed3275a26c%20%3D%20%24%28%60%3Cdiv%20id%3D%22html_0f1e842ce9d24abf93e356ed3275a26c%22%20style%3D%22width%3A%20100.0%25%3B%20height%3A%20100.0%25%3B%22%3E%5B4%2C%20%27Site_4%27%2C%20-39.046859000000005%2C%20174.01494399999999%2C%20%27WGS84%27%2C%20%27NZ%27%5D%3C/div%3E%60%29%5B0%5D%3B%0A%20%20%20%20%20%20%20%20%20%20%20%20popup_27d46804ae8641b58efa68d62bbec320.setContent%28html_0f1e842ce9d24abf93e356ed3275a26c%29%3B%0A%20%20%20%20%20%20%20%20%0A%0A%20%20%20%20%20%20%20%20circle_marker_c15c42e980704a2790f1ad51cd62220b.bindPopup%28popup_27d46804ae8641b58efa68d62bbec320%29%0A%20%20%20%20%20%20%20%20%3B%0A%0A%20%20%20%20%20%20%20%20%0A%20%20%20%20%0A%20%20%20%20%0A%20%20%20%20%20%20%20%20%20%20%20%20circle_marker_c15c42e980704a2790f1ad51cd62220b.bindTooltip%28%0A%20%20%20%20%20%20%20%20%20%20%20%20%20%20%20%20%60%3Cdiv%3E%0A%20%20%20%20%20%20%20%20%20%20%20%20%20%20%20%20%20%20%20%20%20siteName%20%20%20%20Site_4%0AName%3A%203%2C%20dtype%3A%20object%0A%20%20%20%20%20%20%20%20%20%20%20%20%20%20%20%20%20%3C/div%3E%60%2C%0A%20%20%20%20%20%20%20%20%20%20%20%20%20%20%20%20%7B%22sticky%22%3A%20true%7D%0A%20%20%20%20%20%20%20%20%20%20%20%20%29%3B%0A%20%20%20%20%20%20%20%20%0A%20%20%20%20%0A%20%20%20%20%20%20%20%20%20%20%20%20var%20circle_marker_faaa13a487ee4c2ba289defdf058e9b6%20%3D%20L.circleMarker%28%0A%20%20%20%20%20%20%20%20%20%20%20%20%20%20%20%20%5B-39.053019%2C%20174.015039%5D%2C%0A%20%20%20%20%20%20%20%20%20%20%20%20%20%20%20%20%7B%22bubblingMouseEvents%22%3A%20true%2C%20%22color%22%3A%20%22%233388ff%22%2C%20%22dashArray%22%3A%20null%2C%20%22dashOffset%22%3A%20null%2C%20%22fill%22%3A%20false%2C%20%22fillColor%22%3A%20%22%233388ff%22%2C%20%22fillOpacity%22%3A%200.2%2C%20%22fillRule%22%3A%20%22evenodd%22%2C%20%22lineCap%22%3A%20%22round%22%2C%20%22lineJoin%22%3A%20%22round%22%2C%20%22opacity%22%3A%201.0%2C%20%22radius%22%3A%2014%2C%20%22stroke%22%3A%20true%2C%20%22weight%22%3A%203%7D%0A%20%20%20%20%20%20%20%20%20%20%20%20%29.addTo%28map_416a03d9f34248bcad21f8c08d0dd819%29%3B%0A%20%20%20%20%20%20%20%20%0A%20%20%20%20%0A%20%20%20%20%20%20%20%20var%20popup_0e2672b8622e4a57a0535d48af6870b9%20%3D%20L.popup%28%7B%22maxWidth%22%3A%20%22100%25%22%7D%29%3B%0A%0A%20%20%20%20%20%20%20%20%0A%20%20%20%20%20%20%20%20%20%20%20%20var%20html_48c7d97a375d4ec1bb826feb69f17c3f%20%3D%20%24%28%60%3Cdiv%20id%3D%22html_48c7d97a375d4ec1bb826feb69f17c3f%22%20style%3D%22width%3A%20100.0%25%3B%20height%3A%20100.0%25%3B%22%3E%5B5%2C%20%27Site_5%27%2C%20-39.053019%2C%20174.015039%2C%20%27WGS84%27%2C%20%27NZ%27%5D%3C/div%3E%60%29%5B0%5D%3B%0A%20%20%20%20%20%20%20%20%20%20%20%20popup_0e2672b8622e4a57a0535d48af6870b9.setContent%28html_48c7d97a375d4ec1bb826feb69f17c3f%29%3B%0A%20%20%20%20%20%20%20%20%0A%0A%20%20%20%20%20%20%20%20circle_marker_faaa13a487ee4c2ba289defdf058e9b6.bindPopup%28popup_0e2672b8622e4a57a0535d48af6870b9%29%0A%20%20%20%20%20%20%20%20%3B%0A%0A%20%20%20%20%20%20%20%20%0A%20%20%20%20%0A%20%20%20%20%0A%20%20%20%20%20%20%20%20%20%20%20%20circle_marker_faaa13a487ee4c2ba289defdf058e9b6.bindTooltip%28%0A%20%20%20%20%20%20%20%20%20%20%20%20%20%20%20%20%60%3Cdiv%3E%0A%20%20%20%20%20%20%20%20%20%20%20%20%20%20%20%20%20%20%20%20%20siteName%20%20%20%20Site_5%0AName%3A%204%2C%20dtype%3A%20object%0A%20%20%20%20%20%20%20%20%20%20%20%20%20%20%20%20%20%3C/div%3E%60%2C%0A%20%20%20%20%20%20%20%20%20%20%20%20%20%20%20%20%7B%22sticky%22%3A%20true%7D%0A%20%20%20%20%20%20%20%20%20%20%20%20%29%3B%0A%20%20%20%20%20%20%20%20%0A%20%20%20%20%0A%20%20%20%20%20%20%20%20%20%20%20%20var%20tile_layer_3245653bfd7e4f6fafe76140a6041ab1%20%3D%20L.tileLayer%28%0A%20%20%20%20%20%20%20%20%20%20%20%20%20%20%20%20%22https%3A//%7Bs%7D.tile.openstreetmap.org/%7Bz%7D/%7Bx%7D/%7By%7D.png%22%2C%0A%20%20%20%20%20%20%20%20%20%20%20%20%20%20%20%20%7B%22attribution%22%3A%20%22Data%20by%20%5Cu0026copy%3B%20%5Cu003ca%20href%3D%5C%22http%3A//openstreetmap.org%5C%22%5Cu003eOpenStreetMap%5Cu003c/a%5Cu003e%2C%20under%20%5Cu003ca%20href%3D%5C%22http%3A//www.openstreetmap.org/copyright%5C%22%5Cu003eODbL%5Cu003c/a%5Cu003e.%22%2C%20%22detectRetina%22%3A%20false%2C%20%22maxNativeZoom%22%3A%2018%2C%20%22maxZoom%22%3A%2018%2C%20%22minZoom%22%3A%200%2C%20%22noWrap%22%3A%20false%2C%20%22opacity%22%3A%201%2C%20%22subdomains%22%3A%20%22abc%22%2C%20%22tms%22%3A%20false%7D%0A%20%20%20%20%20%20%20%20%20%20%20%20%29%3B%0A%20%20%20%20%20%20%20%20%20%20%20%20var%20mini_map_0286754895ab46d680aa9eb0594dda25%20%3D%20new%20L.Control.MiniMap%28%0A%20%20%20%20%20%20%20%20%20%20%20%20%20%20%20%20tile_layer_3245653bfd7e4f6fafe76140a6041ab1%2C%0A%20%20%20%20%20%20%20%20%20%20%20%20%20%20%20%20%7B%22autoToggleDisplay%22%3A%20false%2C%20%22centerFixed%22%3A%20false%2C%20%22collapsedHeight%22%3A%2025%2C%20%22collapsedWidth%22%3A%2025%2C%20%22height%22%3A%20150%2C%20%22minimized%22%3A%20false%2C%20%22position%22%3A%20%22bottomright%22%2C%20%22toggleDisplay%22%3A%20false%2C%20%22width%22%3A%20150%2C%20%22zoomAnimation%22%3A%20false%2C%20%22zoomLevelOffset%22%3A%20-5%7D%0A%20%20%20%20%20%20%20%20%20%20%20%20%29%3B%0A%20%20%20%20%20%20%20%20%20%20%20%20map_416a03d9f34248bcad21f8c08d0dd819.addControl%28mini_map_0286754895ab46d680aa9eb0594dda25%29%3B%0A%20%20%20%20%20%20%20%20%0A%3C/script%3E onload=\"this.contentDocument.open();this.contentDocument.write(    decodeURIComponent(this.getAttribute('data-html')));this.contentDocument.close();\" allowfullscreen webkitallowfullscreen mozallowfullscreen></iframe></div></div>"
      ],
      "text/plain": [
       "<folium.folium.Map at 0x7fe460659eb0>"
      ]
     },
     "execution_count": 11,
     "metadata": {},
     "output_type": "execute_result"
    }
   ],
   "source": [
    "kso_map = t1.map_site(db_info_dict, project)\n",
    "kso_map"
   ]
  },
  {
   "cell_type": "markdown",
   "id": "RzqjZinGQVux",
   "metadata": {
    "id": "RzqjZinGQVux"
   },
   "source": [
    "## Manually update sites metadata"
   ]
  },
  {
   "cell_type": "markdown",
   "id": "L8-z6pV8LKxY",
   "metadata": {
    "id": "L8-z6pV8LKxY"
   },
   "source": [
    "Select the range of sites to display"
   ]
  },
  {
   "cell_type": "code",
   "execution_count": null,
   "id": "IQmvKQPyLR5d",
   "metadata": {
    "id": "IQmvKQPyLR5d"
   },
   "outputs": [],
   "source": [
    "sites_df, sites_range = t1.select_sheet_range(\n",
    "    db_info_dict=db_info_dict, orig_csv=\"local_sites_csv\"\n",
    ")"
   ]
  },
  {
   "cell_type": "markdown",
   "id": "TTEK-ACcp41U",
   "metadata": {
    "id": "TTEK-ACcp41U"
   },
   "source": [
    "Update the contents of the cells in the spreadsheet below as needed"
   ]
  },
  {
   "cell_type": "code",
   "execution_count": null,
   "id": "9b01ccf5",
   "metadata": {
    "id": "9b01ccf5"
   },
   "outputs": [],
   "source": [
    "sites_df_filtered, sites_sheet = t1.open_csv(df=sites_df, df_range=sites_range)\n",
    "sites_sheet"
   ]
  },
  {
   "cell_type": "markdown",
   "id": "nUITsuBLqIx4",
   "metadata": {
    "id": "nUITsuBLqIx4"
   },
   "source": [
    "### Review and confirm the changes"
   ]
  },
  {
   "cell_type": "code",
   "execution_count": null,
   "id": "n5g_Fiq2qHdt",
   "metadata": {
    "id": "n5g_Fiq2qHdt"
   },
   "outputs": [],
   "source": [
    "# Display the changes\n",
    "highlight_changes, sites_sheet_df = t1.display_changes(\n",
    "    db_info_dict, isheet=sites_sheet, df_filtered=sites_df_filtered\n",
    ")\n",
    "highlight_changes"
   ]
  },
  {
   "cell_type": "code",
   "execution_count": null,
   "id": "H9EQfoINVwFV",
   "metadata": {
    "id": "H9EQfoINVwFV"
   },
   "outputs": [],
   "source": [
    "# Confirm or deny the changes\n",
    "t1.update_csv(\n",
    "    db_info_dict,\n",
    "    project,\n",
    "    sheet_df=sites_sheet_df,\n",
    "    df=sites_df,\n",
    "    local_csv=\"local_sites_csv\",\n",
    "    serv_csv=\"server_sites_csv\",\n",
    ")"
   ]
  },
  {
   "cell_type": "markdown",
   "id": "4b134a5c",
   "metadata": {
    "id": "4b134a5c"
   },
   "source": [
    "# Review Movies"
   ]
  },
  {
   "cell_type": "markdown",
   "id": "CtTfD4tF6ouw",
   "metadata": {
    "id": "CtTfD4tF6ouw"
   },
   "source": [
    "## Preview movies"
   ]
  },
  {
   "cell_type": "markdown",
   "id": "keLx8PPJ6_1c",
   "metadata": {
    "id": "keLx8PPJ6_1c"
   },
   "source": [
    "### Retrieve info of movies available on the server"
   ]
  },
  {
   "cell_type": "code",
   "execution_count": null,
   "id": "EDA7nDfn7EyF",
   "metadata": {
    "id": "EDA7nDfn7EyF"
   },
   "outputs": [],
   "source": [
    "available_movies_df = s_utils.retrieve_movie_info_from_server(\n",
    "    project=project, db_info_dict=db_info_dict\n",
    ")"
   ]
  },
  {
   "cell_type": "markdown",
   "id": "oSm50evA6r6E",
   "metadata": {
    "id": "oSm50evA6r6E"
   },
   "source": [
    "### Select movies to preview"
   ]
  },
  {
   "cell_type": "code",
   "execution_count": null,
   "id": "3Kbc7eYZ7JVx",
   "metadata": {
    "id": "3Kbc7eYZ7JVx"
   },
   "outputs": [],
   "source": [
    "movie_selected = t_utils.select_movie(available_movies_df)"
   ]
  },
  {
   "cell_type": "markdown",
   "id": "QfkDCyz67Mp-",
   "metadata": {
    "id": "QfkDCyz67Mp-"
   },
   "source": [
    "### Display the movie"
   ]
  },
  {
   "cell_type": "code",
   "execution_count": null,
   "id": "SbN566ha7R6n",
   "metadata": {
    "id": "SbN566ha7R6n"
   },
   "outputs": [],
   "source": [
    "movie_display, movie_path = t_utils.preview_movie(\n",
    "    project=project,\n",
    "    db_info_dict=db_info_dict,\n",
    "    available_movies_df=available_movies_df,\n",
    "    movie_i=movie_selected.value,\n",
    ")\n",
    "movie_display"
   ]
  },
  {
   "cell_type": "markdown",
   "id": "zOyenRrL5oFK",
   "metadata": {
    "id": "zOyenRrL5oFK"
   },
   "source": [
    "## Automatic check movies metadata"
   ]
  },
  {
   "cell_type": "markdown",
   "id": "LZYh0kJk8gop",
   "metadata": {
    "id": "LZYh0kJk8gop"
   },
   "source": [
    " Choose the review method"
   ]
  },
  {
   "cell_type": "code",
   "execution_count": null,
   "id": "tgKWLhdx8SmI",
   "metadata": {
    "id": "tgKWLhdx8SmI"
   },
   "outputs": [],
   "source": [
    "review_method = t1.choose_movie_review()"
   ]
  },
  {
   "cell_type": "markdown",
   "id": "w84Aav-HnaN8",
   "metadata": {
    "id": "w84Aav-HnaN8"
   },
   "source": [
    "Specify the GPU availability"
   ]
  },
  {
   "cell_type": "code",
   "execution_count": null,
   "id": "VwD4ZZ1Hnd1x",
   "metadata": {
    "id": "VwD4ZZ1Hnd1x"
   },
   "outputs": [],
   "source": [
    "gpu_available = t_utils.gpu_select()"
   ]
  },
  {
   "cell_type": "markdown",
   "id": "56Q-vAXc30di",
   "metadata": {
    "id": "56Q-vAXc30di"
   },
   "source": [
    "Check and update the movies information"
   ]
  },
  {
   "cell_type": "code",
   "execution_count": null,
   "id": "yODAkAPk3zDT",
   "metadata": {
    "id": "yODAkAPk3zDT"
   },
   "outputs": [],
   "source": [
    "t1.check_movies_csv(db_info_dict, project, review_method, gpu_available.result)"
   ]
  },
  {
   "cell_type": "markdown",
   "id": "eTe97bOn4790",
   "metadata": {
    "id": "eTe97bOn4790"
   },
   "source": [
    "## Manually update movies metadata"
   ]
  },
  {
   "cell_type": "markdown",
   "id": "OnQcVSID7C3r",
   "metadata": {
    "id": "OnQcVSID7C3r"
   },
   "source": [
    "Select the range of movies to display"
   ]
  },
  {
   "cell_type": "code",
   "execution_count": null,
   "id": "-iWD0Jf547BN",
   "metadata": {
    "id": "-iWD0Jf547BN"
   },
   "outputs": [],
   "source": [
    "movies_df, movies_range = t1.select_sheet_range(\n",
    "    db_info_dict=db_info_dict, orig_csv=\"local_movies_csv\"\n",
    ")"
   ]
  },
  {
   "cell_type": "markdown",
   "id": "bHfHY5gN7Qlq",
   "metadata": {
    "id": "bHfHY5gN7Qlq"
   },
   "source": [
    "Update the contents of the cells in the spreadsheet below as needed"
   ]
  },
  {
   "cell_type": "code",
   "execution_count": null,
   "id": "oOaC2-LE6UHv",
   "metadata": {
    "id": "oOaC2-LE6UHv"
   },
   "outputs": [],
   "source": [
    "movies_df_filtered, movies_sheet = t1.open_csv(df=movies_df, df_range=movies_range)\n",
    "movies_sheet"
   ]
  },
  {
   "cell_type": "markdown",
   "id": "7icgtX8d7ZUC",
   "metadata": {
    "id": "7icgtX8d7ZUC"
   },
   "source": [
    "### Review and confirm the changes"
   ]
  },
  {
   "cell_type": "code",
   "execution_count": null,
   "id": "izEvb7la6K7D",
   "metadata": {
    "id": "izEvb7la6K7D"
   },
   "outputs": [],
   "source": [
    "# Display the changes\n",
    "highlight_changes, movies_sheet_df = t1.display_changes(\n",
    "    db_info_dict, isheet=movies_sheet, df_filtered=movies_df_filtered\n",
    ")\n",
    "highlight_changes"
   ]
  },
  {
   "cell_type": "code",
   "execution_count": null,
   "id": "Kd7Od4VfBln5",
   "metadata": {
    "id": "Kd7Od4VfBln5"
   },
   "outputs": [],
   "source": [
    "# Confirm or deny the changes\n",
    "t1.update_csv(\n",
    "    db_info_dict,\n",
    "    project,\n",
    "    sheet_df=movies_sheet_df,\n",
    "    df=movies_df,\n",
    "    local_csv=\"local_movies_csv\",\n",
    "    serv_csv=\"server_movies_csv\",\n",
    ")"
   ]
  },
  {
   "cell_type": "markdown",
   "id": "tyKSJHRq3kog",
   "metadata": {
    "id": "tyKSJHRq3kog"
   },
   "source": [
    "# Review species"
   ]
  },
  {
   "cell_type": "markdown",
   "id": "I0le1Ammu3mG",
   "metadata": {
    "id": "I0le1Ammu3mG"
   },
   "source": [
    "## Check the species dataframe"
   ]
  },
  {
   "cell_type": "code",
   "execution_count": null,
   "id": "OTGLqqdjusy5",
   "metadata": {
    "id": "OTGLqqdjusy5"
   },
   "outputs": [],
   "source": [
    "species_sheet_df = t1.check_species_csv(db_info_dict=db_info_dict, project=project)"
   ]
  },
  {
   "cell_type": "markdown",
   "id": "yKpoX8DUvHDs",
   "metadata": {
    "id": "yKpoX8DUvHDs"
   },
   "source": [
    "## Manually update species dataframe"
   ]
  },
  {
   "cell_type": "markdown",
   "id": "OPItluO5utuy",
   "metadata": {
    "id": "OPItluO5utuy"
   },
   "source": [
    "Select the range of species to display"
   ]
  },
  {
   "cell_type": "code",
   "execution_count": null,
   "id": "b78b2738",
   "metadata": {
    "id": "b78b2738"
   },
   "outputs": [],
   "source": [
    "species_df, species_range = t1.select_sheet_range(\n",
    "    db_info_dict=db_info_dict, orig_csv=\"local_species_csv\"\n",
    ")"
   ]
  },
  {
   "cell_type": "markdown",
   "id": "8jkoFyRDvWwH",
   "metadata": {
    "id": "8jkoFyRDvWwH"
   },
   "source": [
    "Update the contents of the cells in the spreadsheet below as needed"
   ]
  },
  {
   "cell_type": "code",
   "execution_count": null,
   "id": "zvl2ZNO5vXYi",
   "metadata": {
    "id": "zvl2ZNO5vXYi"
   },
   "outputs": [],
   "source": [
    "species_df_filtered, species_sheet = t1.open_csv(df=species_df, df_range=species_range)\n",
    "species_sheet"
   ]
  },
  {
   "cell_type": "markdown",
   "id": "PZyfVEMRvekz",
   "metadata": {
    "id": "PZyfVEMRvekz"
   },
   "source": [
    "### Review and confirm the changes"
   ]
  },
  {
   "cell_type": "code",
   "execution_count": null,
   "id": "Niq_2WZlvlE9",
   "metadata": {
    "id": "Niq_2WZlvlE9"
   },
   "outputs": [],
   "source": [
    "# Display the changes\n",
    "highlight_changes, species_sheet_df = t1.display_changes(\n",
    "    db_info_dict, isheet=species_sheet, df_filtered=species_df_filtered\n",
    ")\n",
    "highlight_changes"
   ]
  },
  {
   "cell_type": "code",
   "execution_count": null,
   "id": "cGHj7CkKuhcC",
   "metadata": {
    "id": "cGHj7CkKuhcC"
   },
   "outputs": [],
   "source": [
    "# Confirm or deny the changes\n",
    "t1.update_csv(\n",
    "    db_info_dict,\n",
    "    project,\n",
    "    sheet_df=species_sheet_df,\n",
    "    df=species_df,\n",
    "    local_csv=\"local_species_csv\",\n",
    "    serv_csv=\"server_species_csv\",\n",
    ")"
   ]
  },
  {
   "cell_type": "code",
   "execution_count": null,
   "id": "5fc74ec0",
   "metadata": {
    "id": "5fc74ec0"
   },
   "outputs": [],
   "source": [
    "# END"
   ]
  }
 ],
 "metadata": {
  "colab": {
   "collapsed_sections": [],
   "include_colab_link": true,
   "provenance": [],
   "toc_visible": true
  },
  "kernelspec": {
   "display_name": "Python 3.8.8 ('odf')",
   "language": "python",
   "name": "python3"
  },
  "language_info": {
   "codemirror_mode": {
    "name": "ipython",
    "version": 3
   },
   "file_extension": ".py",
   "mimetype": "text/x-python",
   "name": "python",
   "nbconvert_exporter": "python",
   "pygments_lexer": "ipython3",
   "version": "3.8.8"
  },
  "vscode": {
   "interpreter": {
    "hash": "9f0064b85a3bc365415745ead9abb78ac240c43fe3a2a9861333bea64f4ce941"
   }
  }
 },
 "nbformat": 4,
 "nbformat_minor": 5
}
