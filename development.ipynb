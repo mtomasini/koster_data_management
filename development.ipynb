{
 "cells": [
  {
   "cell_type": "markdown",
   "metadata": {},
   "source": [
    "## Development script\n",
    "\n",
    "> Author: Matteo Tomasini\n",
    "> \n",
    "> Date: 18.11.2022\n",
    "> \n",
    "> Description: In this development script, I write down a basic working example to download and extract clips from videos for the Koster Seafloor Observatory project on Zooniverse.\n"
   ]
  }
 ],
 "metadata": {
  "language_info": {
   "name": "python"
  },
  "orig_nbformat": 4
 },
 "nbformat": 4,
 "nbformat_minor": 2
}
